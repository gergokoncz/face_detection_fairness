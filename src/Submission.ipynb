{
 "cells": [
  {
   "cell_type": "markdown",
   "id": "1788e4cb",
   "metadata": {},
   "source": [
    "# Group G -  Fairness Project Submission\n",
    "\n",
    "note: This is a merge of all the notebooks and utility files we have worked in. The processes follow each other so the code should be runnable (we tested it), however we have not rerun the API calls to the services, so there might be some missing output under those cells. Furthermore the saving of the built dataframes is commented out, so we do not overwrite the already existing files."
   ]
  },
  {
   "cell_type": "markdown",
   "id": "403e23cc",
   "metadata": {},
   "source": [
    "## Utility functions"
   ]
  },
  {
   "cell_type": "code",
   "execution_count": 1,
   "id": "06c7342b",
   "metadata": {},
   "outputs": [],
   "source": [
    "from pathlib import Path\n",
    "import pandas as pd\n",
    "from os import listdir\n",
    "\n",
    "from azure.cognitiveservices.vision.computervision import ComputerVisionClient\n",
    "from azure.cognitiveservices.vision.computervision.models import VisualFeatureTypes\n",
    "from msrest.authentication import CognitiveServicesCredentials\n",
    "\n",
    "from typing import Dict, List, Iterator, NamedTuple, Tuple"
   ]
  },
  {
   "cell_type": "code",
   "execution_count": 2,
   "id": "f9e0cbe3",
   "metadata": {},
   "outputs": [],
   "source": [
    "def parse_azure_creds() -> Dict[str, str]:\n",
    "    \"\"\"\n",
    "    Parses azure credentials\n",
    "    only works if you have the azure cognitive credential in the file \n",
    "    \"\"\"\n",
    "    creds_dict: Dict = dict()\n",
    "    creds_path: Path = Path.cwd().parent.joinpath('creds').joinpath('azure_creds.txt')\n",
    "    with open(creds_path, 'r') as f:\n",
    "        creds_dict['endpoint'] = f.readline().strip()\n",
    "        creds_dict['region'] = f.readline().strip()\n",
    "        creds_dict['key'] = f.readline().strip()\n",
    "    return creds_dict\n",
    "        \n",
    "\n",
    "def get_visionclient() -> ComputerVisionClient:\n",
    "    \"\"\"\n",
    "    builds azure visionclient\n",
    "    \"\"\"\n",
    "    creds: Dict[str, str] = parse_azure_creds()\n",
    "    vision_client : ComputerVisionClient = ComputerVisionClient(creds.get('endpoint'), CognitiveServicesCredentials(creds.get('key')))\n",
    "    return vision_client\n",
    "\n",
    "def get_valdf() -> pd.DataFrame:\n",
    "    \"\"\"\n",
    "    Read and return validation dataframe \n",
    "    \"\"\"\n",
    "    path: Path = Path.cwd().parent.joinpath('data').joinpath('fairface_label_val.csv')\n",
    "    return pd.read_csv(path)\n",
    "\n",
    "def get_azuredf() -> pd.DataFrame:\n",
    "    \"\"\"\n",
    "    Read and return azure classified dataframe\n",
    "    \"\"\"\n",
    "    path: Path = Path.cwd().parent.joinpath('data').joinpath('azure_analyzed.csv')\n",
    "    return pd.read_csv(path)\n",
    "\n",
    "def get_azured_val() -> pd.DataFrame:\n",
    "    \"\"\"\n",
    "    Read and return the merged azure and validation dataframe\n",
    "    \"\"\"\n",
    "    path: Path = Path.cwd().parent.joinpath('data').joinpath('azure_val_merged.csv')\n",
    "    return pd.read_csv(path)\n",
    "\n",
    "def get_aws_val_df() -> pd.DataFrame:\n",
    "    \"\"\"\n",
    "    Read and return the merged aws and validation dataframe\n",
    "    \"\"\"\n",
    "    path: Path = Path.cwd().parent.joinpath('data').joinpath('aws_val_merged.csv')\n",
    "    return pd.read_csv(path)\n",
    "\n",
    "def get_images() -> List[Path]:\n",
    "    \"\"\"\n",
    "    Iterator to loop through the face images\n",
    "    \"\"\"\n",
    "    folder_path: Path = Path.cwd().parent.joinpath('data').joinpath('val')\n",
    "    return (folder_path.joinpath(x) for x in listdir(folder_path))\n"
   ]
  },
  {
   "cell_type": "markdown",
   "id": "dd302a59",
   "metadata": {},
   "source": [
    "## Gather Azure data"
   ]
  },
  {
   "cell_type": "code",
   "execution_count": 3,
   "id": "7a090bab",
   "metadata": {},
   "outputs": [],
   "source": [
    "vs_client = get_visionclient()\n",
    "val_df = get_valdf()\n",
    "images = get_images()"
   ]
  },
  {
   "cell_type": "code",
   "execution_count": 4,
   "id": "b166cd1e",
   "metadata": {},
   "outputs": [],
   "source": [
    "# struct to save analysis results into\n",
    "class FaceAnalysis(NamedTuple):\n",
    "    path: str\n",
    "    age: int\n",
    "    gender: str"
   ]
  },
  {
   "cell_type": "code",
   "execution_count": 5,
   "id": "12ea9d26",
   "metadata": {},
   "outputs": [],
   "source": [
    "# function to work on one picture\n",
    "features = [VisualFeatureTypes.faces]\n",
    "\n",
    "def analyze_image(path: Path) -> FaceAnalysis:\n",
    "    short_path = '/'.join(str(path).split('/')[-2:])\n",
    "    with open(path, 'rb') as image_data:\n",
    "        analysis = vs_client.analyze_image_in_stream(image_data, features)\n",
    "    \n",
    "    if analysis.faces:\n",
    "        face = analysis.faces[0]\n",
    "        return FaceAnalysis(path=short_path, age=face.age, gender=face.gender.name)\n",
    "    else:\n",
    "        return FaceAnalysis(path=short_path, age=None, gender=None)"
   ]
  },
  {
   "cell_type": "code",
   "execution_count": 6,
   "id": "7bddbd2e",
   "metadata": {},
   "outputs": [
    {
     "name": "stdout",
     "output_type": "stream",
     "text": [
      "0\n"
     ]
    }
   ],
   "source": [
    "# building the actual dataframe\n",
    "paths, ages, genders = [], [], []\n",
    "for idx, im in enumerate(images):\n",
    "    if idx % 100 == 0:\n",
    "        print(idx) # to keep track of speed\n",
    "        break\n",
    "    face = analyze_image(im)\n",
    "    paths.append(face.path)\n",
    "    ages.append(face.age)\n",
    "    genders.append(face.gender)"
   ]
  },
  {
   "cell_type": "code",
   "execution_count": 7,
   "id": "d210a2d6",
   "metadata": {},
   "outputs": [],
   "source": [
    "azure_analyzed_df = pd.DataFrame({'path': paths, 'predicted_age': ages, 'predicted_gender': genders})\n",
    "# we do not save the file here \n",
    "#analyzed_df.to_csv('azure_analyzed.csv', index = False)"
   ]
  },
  {
   "cell_type": "code",
   "execution_count": 8,
   "id": "2cd91f13",
   "metadata": {},
   "outputs": [],
   "source": [
    "# merge and save \n",
    "#val_df.merge(azure_analyzed_df, left_on = 'file', right_on = 'path').to_csv('azure_val_merged.csv')"
   ]
  },
  {
   "cell_type": "markdown",
   "id": "6c9ad040",
   "metadata": {},
   "source": [
    "## Gather Amazon data"
   ]
  },
  {
   "cell_type": "code",
   "execution_count": 9,
   "id": "f9fd07b3",
   "metadata": {},
   "outputs": [],
   "source": [
    "import boto3\n",
    "from rekognition_objects import RekognitionFace # source: https://docs.aws.amazon.com/code-samples/latest/catalog/python-rekognition-rekognition_objects.py.html"
   ]
  },
  {
   "cell_type": "code",
   "execution_count": 10,
   "id": "6d7f98bc",
   "metadata": {},
   "outputs": [],
   "source": [
    "images = get_images()\n",
    "# aws handles age as tuples, so redefinition of the class\n",
    "class FaceAnalysis(NamedTuple):\n",
    "    path: str\n",
    "    age: Tuple[int, int]\n",
    "    gender: str\n",
    "\n",
    "rekognition_client = boto3.client('rekognition')"
   ]
  },
  {
   "cell_type": "code",
   "execution_count": 11,
   "id": "8816df29",
   "metadata": {},
   "outputs": [],
   "source": [
    "# func to analyze one picture\n",
    "def aws_analyze_image(path: Path) -> FaceAnalysis:\n",
    "    short_path = '/'.join(str(path).split('/')[-2:])\n",
    "    try:\n",
    "        with open(path, 'rb') as image_data:\n",
    "            image = {'Bytes': image_data.read()}\n",
    "            response = rekognition_client.detect_faces(Image = image, Attributes = ['ALL'])\n",
    "            faces = [RekognitionFace(face) for face in response['FaceDetails']]\n",
    "            face = faces[0]\n",
    "            return FaceAnalysis(path=short_path, age=face.age_range, gender=face.gender)\n",
    "    except:\n",
    "        return FaceAnalysis(path=short_path, age=None, gender=None)"
   ]
  },
  {
   "cell_type": "code",
   "execution_count": 12,
   "id": "5e89917a",
   "metadata": {},
   "outputs": [
    {
     "name": "stdout",
     "output_type": "stream",
     "text": [
      "9\n"
     ]
    }
   ],
   "source": [
    "paths, ages, genders = [], [], []\n",
    "for idx, im in enumerate(images):\n",
    "    if idx % 10 == 9:\n",
    "        print(idx)\n",
    "        break\n",
    "    face = aws_analyze_image(im)\n",
    "    paths.append(face.path)\n",
    "    ages.append(face.age)\n",
    "    genders.append(face.gender)"
   ]
  },
  {
   "cell_type": "code",
   "execution_count": 13,
   "id": "55dcec39",
   "metadata": {},
   "outputs": [],
   "source": [
    "analyzed_aws_df = pd.DataFrame({'path': paths, 'predicted_age': ages, 'predicted_gender': genders})"
   ]
  },
  {
   "cell_type": "code",
   "execution_count": 14,
   "id": "8b5471f8",
   "metadata": {},
   "outputs": [],
   "source": [
    "# save the merged df\n",
    "#val_df.merge(analyzed_aws_df, left_on = 'file', right_on = 'path').to_csv('aws_val_merged.csv', index = False)"
   ]
  },
  {
   "cell_type": "markdown",
   "id": "aa1fbfe8",
   "metadata": {},
   "source": [
    "## Analysis of the results"
   ]
  },
  {
   "cell_type": "code",
   "execution_count": 15,
   "id": "6f8b73bf",
   "metadata": {},
   "outputs": [],
   "source": [
    "import matplotlib.pyplot as plt\n",
    "%matplotlib inline"
   ]
  },
  {
   "cell_type": "code",
   "execution_count": 16,
   "id": "4c2e3e7f",
   "metadata": {},
   "outputs": [],
   "source": [
    "def calc_prop(data, group_col, group, output_col, output_val):\n",
    "    new = data[data[group_col] == group]\n",
    "    return len(new[new[output_col] == output_val])/len(new)"
   ]
  },
  {
   "cell_type": "code",
   "execution_count": 17,
   "id": "48c05302",
   "metadata": {},
   "outputs": [],
   "source": [
    "def perf_measure(data, y_actual, y_hat, prv, unprv):\n",
    "    TP = 0\n",
    "    FP = 0\n",
    "    TN = 0\n",
    "    FN = 0\n",
    "\n",
    "    for i in range(len(y_hat)): \n",
    "        if y_actual[i]==y_hat[i]==prv:\n",
    "           TP += 1\n",
    "        if y_hat[i]==prv and y_actual[i]!=y_hat[i]:\n",
    "           FP += 1\n",
    "        if y_actual[i]==y_hat[i]==unprv:\n",
    "           TN += 1\n",
    "        if y_hat[i]==unprv and y_actual[i]!=y_hat[i]:\n",
    "           FN += 1\n",
    "    FN += (data.predicted_gender[data.gender == prv].isna()).sum()\n",
    "\n",
    "    return TP, FP, TN, FN "
   ]
  },
  {
   "cell_type": "code",
   "execution_count": 18,
   "id": "178027da",
   "metadata": {},
   "outputs": [],
   "source": [
    "def Equality_of_odds(data, y_actual, y_hat, prv, unprv):\n",
    "    TP, FP, TN, FN = perf_measure(data, y_actual, y_hat, prv, unprv)\n",
    "    \n",
    "    FNR = FN/(FN+TP)\n",
    "    TPR = TP/(TP+FN)\n",
    "    \n",
    "    return FNR, TPR"
   ]
  },
  {
   "cell_type": "code",
   "execution_count": 19,
   "id": "760b4d3a",
   "metadata": {},
   "outputs": [],
   "source": [
    "def get_metrics(data, prv, unprv):\n",
    "    nan_data = data[data.predicted_gender.isna()]\n",
    "    prv_nones = (nan_data.gender == prv).sum()\n",
    "    unprv_nones  = (nan_data.gender == unprv).sum()\n",
    "\n",
    "    \n",
    "    print(f'{prv} faces not detected: {prv_nones}')\n",
    "    print(f'{unprv} faces not detected: {unprv_nones}')\n",
    "    \n",
    "    pr_priv = calc_prop(data, \"gender\", prv, \"predicted_gender\", prv)\n",
    "    pr_unpriv = calc_prop(data, \"gender\", unprv, \"predicted_gender\", unprv)\n",
    "    print(f'Disparate impact for unpriveliged {unprv} and priveliged {prv}: {float(pr_unpriv / pr_priv):.4}')\n",
    "    print(f'Disparate impact for unpriveliged {prv} and priveliged {unprv}: {float(pr_priv / pr_unpriv):.4}')\n",
    "    \n",
    "    y_actual = data.gender.to_list()\n",
    "    y_hat = data.predicted_gender.to_list()\n",
    "    \n",
    "    FNR, prv_TPR= Equality_of_odds(data, y_actual, y_hat, prv, unprv)\n",
    "    print(f'Equality of odds:\\n True positive rate: {prv_TPR:.4}, false positive rate: {FNR:.4} for {prv}')\n",
    "    \n",
    "    FNR, unprv_TPR = Equality_of_odds(data, y_actual, y_hat, unprv, prv)\n",
    "    print(f' True positive rate: {unprv_TPR:.4}, false positive rate: {FNR:.4} for {unprv}')\n",
    "    \n",
    "    print(f'Equality of opportunity difference for {prv} and {unprv}: {float(unprv_TPR - prv_TPR):.4}')\n",
    "    print(f'Equality of opportunity difference for {unprv} and {prv}: {float(prv_TPR - unprv_TPR):.4}')"
   ]
  },
  {
   "cell_type": "markdown",
   "id": "be03dabd",
   "metadata": {},
   "source": [
    "### Azure part"
   ]
  },
  {
   "cell_type": "code",
   "execution_count": 20,
   "id": "5aa92461",
   "metadata": {},
   "outputs": [],
   "source": [
    "data = get_azured_val()"
   ]
  },
  {
   "cell_type": "code",
   "execution_count": 21,
   "id": "cb59fe4d",
   "metadata": {},
   "outputs": [
    {
     "name": "stderr",
     "output_type": "stream",
     "text": [
      "<ipython-input-21-2d44442f7320>:1: SettingWithCopyWarning: \n",
      "A value is trying to be set on a copy of a slice from a DataFrame\n",
      "\n",
      "See the caveats in the documentation: https://pandas.pydata.org/pandas-docs/stable/user_guide/indexing.html#returning-a-view-versus-a-copy\n",
      "  data.predicted_gender[data.predicted_gender == 'male'] = 'Male'\n",
      "<ipython-input-21-2d44442f7320>:2: SettingWithCopyWarning: \n",
      "A value is trying to be set on a copy of a slice from a DataFrame\n",
      "\n",
      "See the caveats in the documentation: https://pandas.pydata.org/pandas-docs/stable/user_guide/indexing.html#returning-a-view-versus-a-copy\n",
      "  data.predicted_gender[data.predicted_gender == 'female'] = 'Female'\n"
     ]
    }
   ],
   "source": [
    "data.predicted_gender[data.predicted_gender == 'male'] = 'Male'\n",
    "data.predicted_gender[data.predicted_gender == 'female'] = 'Female'"
   ]
  },
  {
   "cell_type": "code",
   "execution_count": 22,
   "id": "a5979b00",
   "metadata": {},
   "outputs": [
    {
     "name": "stdout",
     "output_type": "stream",
     "text": [
      "Male faces not detected: 1165\n",
      "Female faces not detected: 777\n",
      "Disparate impact for unpriveliged Female and priveliged Male: 1.114\n",
      "Disparate impact for unpriveliged Male and priveliged Female: 0.8978\n",
      "Equality of odds:\n",
      " True positive rate: 0.726, false positive rate: 0.274 for Male\n",
      " True positive rate: 0.8086, false positive rate: 0.1914 for Female\n",
      "Equality of opportunity difference for Male and Female: 0.0826\n",
      "Equality of opportunity difference for Female and Male: -0.0826\n"
     ]
    }
   ],
   "source": [
    "get_metrics(data, 'Male', 'Female')"
   ]
  },
  {
   "cell_type": "code",
   "execution_count": 23,
   "id": "a95beede",
   "metadata": {},
   "outputs": [
    {
     "name": "stdout",
     "output_type": "stream",
     "text": [
      "Male faces not detected: 0\n",
      "Female faces not detected: 0\n",
      "Disparate impact for unpriveliged Female and priveliged Male: 1.047\n",
      "Disparate impact for unpriveliged Male and priveliged Female: 0.9547\n",
      "Equality of odds:\n",
      " True positive rate: 0.9088, false positive rate: 0.0912 for Male\n",
      " True positive rate: 0.9519, false positive rate: 0.04812 for Female\n",
      "Equality of opportunity difference for Male and Female: 0.04309\n",
      "Equality of opportunity difference for Female and Male: -0.04309\n"
     ]
    }
   ],
   "source": [
    "get_metrics(data.dropna(), 'Male', 'Female')"
   ]
  },
  {
   "cell_type": "markdown",
   "id": "111c42ef",
   "metadata": {},
   "source": [
    "### AWS part"
   ]
  },
  {
   "cell_type": "code",
   "execution_count": 24,
   "id": "308ef233",
   "metadata": {},
   "outputs": [],
   "source": [
    "data = get_aws_val_df()"
   ]
  },
  {
   "cell_type": "code",
   "execution_count": 26,
   "id": "9179d6c6",
   "metadata": {},
   "outputs": [
    {
     "name": "stdout",
     "output_type": "stream",
     "text": [
      "Male faces not detected: 108\n",
      "Female faces not detected: 48\n",
      "Disparate impact for unpriveliged Female and priveliged Male: 1.152\n",
      "Disparate impact for unpriveliged Male and priveliged Female: 0.8681\n",
      "Equality of odds:\n",
      " True positive rate: 0.797, false positive rate: 0.203 for Male\n",
      " True positive rate: 0.9181, false positive rate: 0.08194 for Female\n",
      "Equality of opportunity difference for Male and Female: 0.1211\n",
      "Equality of opportunity difference for Female and Male: -0.1211\n"
     ]
    }
   ],
   "source": [
    "get_metrics(data, 'Male', 'Female')"
   ]
  },
  {
   "cell_type": "code",
   "execution_count": 27,
   "id": "0d12ee88",
   "metadata": {},
   "outputs": [
    {
     "name": "stdout",
     "output_type": "stream",
     "text": [
      "Male faces not detected: 0\n",
      "Female faces not detected: 0\n",
      "Disparate impact for unpriveliged Female and priveliged Male: 1.141\n",
      "Disparate impact for unpriveliged Male and priveliged Female: 0.8764\n",
      "Equality of odds:\n",
      " True positive rate: 0.8121, false positive rate: 0.1879 for Male\n",
      " True positive rate: 0.9267, false positive rate: 0.07333 for Female\n",
      "Equality of opportunity difference for Male and Female: 0.1146\n",
      "Equality of opportunity difference for Female and Male: -0.1146\n"
     ]
    }
   ],
   "source": [
    "get_metrics(data.dropna(), 'Male', 'Female')"
   ]
  },
  {
   "cell_type": "code",
   "execution_count": 29,
   "id": "e195ad23",
   "metadata": {},
   "outputs": [
    {
     "data": {
      "text/plain": [
       "(10954, 8)"
      ]
     },
     "execution_count": 29,
     "metadata": {},
     "output_type": "execute_result"
    }
   ],
   "source": [
    "data.shape"
   ]
  },
  {
   "cell_type": "code",
   "execution_count": null,
   "id": "005c9cb9",
   "metadata": {},
   "outputs": [],
   "source": []
  }
 ],
 "metadata": {
  "kernelspec": {
   "display_name": "Python 3",
   "language": "python",
   "name": "python3"
  },
  "language_info": {
   "codemirror_mode": {
    "name": "ipython",
    "version": 3
   },
   "file_extension": ".py",
   "mimetype": "text/x-python",
   "name": "python",
   "nbconvert_exporter": "python",
   "pygments_lexer": "ipython3",
   "version": "3.8.8"
  }
 },
 "nbformat": 4,
 "nbformat_minor": 5
}
