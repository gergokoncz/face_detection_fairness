{
 "cells": [
  {
   "cell_type": "code",
   "execution_count": 1,
   "metadata": {},
   "outputs": [],
   "source": [
    "from pathlib import Path\n",
    "import pandas as pd\n",
    "import utils\n",
    "import matplotlib.pyplot as plt"
   ]
  },
  {
   "cell_type": "code",
   "execution_count": 2,
   "metadata": {},
   "outputs": [],
   "source": [
    "def calc_prop(data, group_col, group, output_col, output_val):\n",
    "    new = data[data[group_col] == group]\n",
    "    return len(new[new[output_col] == output_val])/len(new)"
   ]
  },
  {
   "cell_type": "code",
   "execution_count": 3,
   "metadata": {},
   "outputs": [],
   "source": [
    "def perf_measure(data, y_actual, y_hat, prv, unprv):\n",
    "    TP = 0\n",
    "    FP = 0\n",
    "    TN = 0\n",
    "    FN = 0\n",
    "\n",
    "    for i in range(len(y_hat)): \n",
    "        if y_actual[i]==y_hat[i]==prv:\n",
    "           TP += 1\n",
    "        if y_hat[i]==prv and y_actual[i]!=y_hat[i]:\n",
    "           FP += 1\n",
    "        if y_actual[i]==y_hat[i]==unprv:\n",
    "           TN += 1\n",
    "        if y_hat[i]==unprv and y_actual[i]!=y_hat[i]:\n",
    "           FN += 1\n",
    "    FN += (data.predicted_gender[data.gender == prv].isna()).sum()\n",
    "\n",
    "    return TP, FP, TN, FN "
   ]
  },
  {
   "cell_type": "code",
   "execution_count": 4,
   "metadata": {},
   "outputs": [],
   "source": [
    "def Equality_of_odds(data, y_actual, y_hat, prv, unprv):\n",
    "    TP, FP, TN, FN = perf_measure(data, y_actual, y_hat, prv, unprv)\n",
    "    \n",
    "    FNR = FN/(FN+TP)\n",
    "    TPR = TP/(TP+FN)\n",
    "    \n",
    "    return FNR, TPR"
   ]
  },
  {
   "cell_type": "code",
   "execution_count": 6,
   "metadata": {},
   "outputs": [],
   "source": [
    "def get_metrics(data, prv, unprv):\n",
    "    nan_data = data[data.predicted_gender.isna()]\n",
    "    prv_nones = (nan_data.gender == prv).sum()\n",
    "    unprv_nones  = (nan_data.gender == unprv).sum()\n",
    "\n",
    "    \n",
    "    print(f'{prv} faces not detected: {prv_nones}')\n",
    "    print(f'{unprv} faces not detected: {unprv_nones}')\n",
    "    \n",
    "    pr_priv = calc_prop(data, \"gender\", prv, \"predicted_gender\", prv)\n",
    "    pr_unpriv = calc_prop(data, \"gender\", unprv, \"predicted_gender\", unprv)\n",
    "    print(f'Disparate impact for unpriveliged {unprv} and priveliged {prv}: {float(pr_unpriv / pr_priv):.4}')\n",
    "    print(f'Disparate impact for unpriveliged {prv} and priveliged {unprv}: {float(pr_priv / pr_unpriv):.4}')\n",
    "    \n",
    "    y_actual = data.gender.to_list()\n",
    "    y_hat = data.predicted_gender.to_list()\n",
    "    \n",
    "    FNR, prv_TPR= Equality_of_odds(data, y_actual, y_hat, prv, unprv)\n",
    "    print(f'Equality of odds:\\n True positive rate: {prv_TPR:.4}, false positive rate: {FNR:.4} for {prv}')\n",
    "    \n",
    "    FNR, unprv_TPR = Equality_of_odds(data, y_actual, y_hat, unprv, prv)\n",
    "    print(f' True positive rate: {unprv_TPR:.4}, false positive rate: {FNR:.4} for {unprv}')\n",
    "    \n",
    "    print(f'Equality of opportunity difference for {prv} and {unprv}: {float(unprv_TPR - prv_TPR):.4}')\n",
    "    print(f'Equality of opportunity difference for {unprv} and {prv}: {float(prv_TPR - unprv_TPR):.4}')\n",
    "\n",
    "    "
   ]
  },
  {
   "cell_type": "code",
   "execution_count": 7,
   "metadata": {},
   "outputs": [],
   "source": [
    "data = utils.get_aws_val_df()"
   ]
  },
  {
   "cell_type": "code",
   "execution_count": 8,
   "metadata": {},
   "outputs": [
    {
     "name": "stdout",
     "output_type": "stream",
     "text": [
      "Male faces not detected: 108\n",
      "Female faces not detected: 48\n",
      "Disparate impact for unpriveliged Female and priveliged Male: 1.152\n",
      "Disparate impact for unpriveliged Male and priveliged Female: 0.8681\n",
      "Equality of odds:\n",
      " True positive rate: 0.797, false positive rate: 0.203 for Male\n",
      " True positive rate: 0.9181, false positive rate: 0.08194 for Female\n",
      "Equality of opportunity difference for Male and Female: 0.1211\n",
      "Equality of opportunity difference for Female and Male: -0.1211\n"
     ]
    }
   ],
   "source": [
    "get_metrics(data, 'Male', 'Female')"
   ]
  },
  {
   "cell_type": "code",
   "execution_count": 9,
   "metadata": {
    "scrolled": true
   },
   "outputs": [
    {
     "name": "stdout",
     "output_type": "stream",
     "text": [
      "Male faces not detected: 0\n",
      "Female faces not detected: 0\n",
      "Disparate impact for unpriveliged Female and priveliged Male: 1.141\n",
      "Disparate impact for unpriveliged Male and priveliged Female: 0.8764\n",
      "Equality of odds:\n",
      " True positive rate: 0.8121, false positive rate: 0.1879 for Male\n",
      " True positive rate: 0.9267, false positive rate: 0.07333 for Female\n",
      "Equality of opportunity difference for Male and Female: 0.1146\n",
      "Equality of opportunity difference for Female and Male: -0.1146\n"
     ]
    }
   ],
   "source": [
    "get_metrics(data.dropna(), 'Male', 'Female')"
   ]
  },
  {
   "cell_type": "code",
   "execution_count": 10,
   "metadata": {},
   "outputs": [],
   "source": [
    "data = utils.get_azured_val()"
   ]
  },
  {
   "cell_type": "code",
   "execution_count": 11,
   "metadata": {},
   "outputs": [
    {
     "name": "stderr",
     "output_type": "stream",
     "text": [
      "<ipython-input-11-2d44442f7320>:1: SettingWithCopyWarning: \n",
      "A value is trying to be set on a copy of a slice from a DataFrame\n",
      "\n",
      "See the caveats in the documentation: https://pandas.pydata.org/pandas-docs/stable/user_guide/indexing.html#returning-a-view-versus-a-copy\n",
      "  data.predicted_gender[data.predicted_gender == 'male'] = 'Male'\n",
      "<ipython-input-11-2d44442f7320>:2: SettingWithCopyWarning: \n",
      "A value is trying to be set on a copy of a slice from a DataFrame\n",
      "\n",
      "See the caveats in the documentation: https://pandas.pydata.org/pandas-docs/stable/user_guide/indexing.html#returning-a-view-versus-a-copy\n",
      "  data.predicted_gender[data.predicted_gender == 'female'] = 'Female'\n"
     ]
    }
   ],
   "source": [
    "data.predicted_gender[data.predicted_gender == 'male'] = 'Male'\n",
    "data.predicted_gender[data.predicted_gender == 'female'] = 'Female'"
   ]
  },
  {
   "cell_type": "code",
   "execution_count": 12,
   "metadata": {},
   "outputs": [
    {
     "name": "stdout",
     "output_type": "stream",
     "text": [
      "Male faces not detected: 1165\n",
      "Female faces not detected: 777\n",
      "Disparate impact for unpriveliged Female and priveliged Male: 1.114\n",
      "Disparate impact for unpriveliged Male and priveliged Female: 0.8978\n",
      "Equality of odds:\n",
      " True positive rate: 0.726, false positive rate: 0.274 for Male\n",
      " True positive rate: 0.8086, false positive rate: 0.1914 for Female\n",
      "Equality of opportunity difference for Male and Female: 0.0826\n",
      "Equality of opportunity difference for Female and Male: -0.0826\n"
     ]
    }
   ],
   "source": [
    "get_metrics(data, 'Male', 'Female')"
   ]
  },
  {
   "cell_type": "code",
   "execution_count": 13,
   "metadata": {},
   "outputs": [
    {
     "name": "stdout",
     "output_type": "stream",
     "text": [
      "Male faces not detected: 0\n",
      "Female faces not detected: 0\n",
      "Disparate impact for unpriveliged Female and priveliged Male: 1.047\n",
      "Disparate impact for unpriveliged Male and priveliged Female: 0.9547\n",
      "Equality of odds:\n",
      " True positive rate: 0.9088, false positive rate: 0.0912 for Male\n",
      " True positive rate: 0.9519, false positive rate: 0.04812 for Female\n",
      "Equality of opportunity difference for Male and Female: 0.04309\n",
      "Equality of opportunity difference for Female and Male: -0.04309\n"
     ]
    }
   ],
   "source": [
    "get_metrics(data.dropna(), 'Male', 'Female')"
   ]
  },
  {
   "cell_type": "code",
   "execution_count": null,
   "metadata": {},
   "outputs": [],
   "source": []
  }
 ],
 "metadata": {
  "kernelspec": {
   "display_name": "Python 3",
   "language": "python",
   "name": "python3"
  },
  "language_info": {
   "codemirror_mode": {
    "name": "ipython",
    "version": 3
   },
   "file_extension": ".py",
   "mimetype": "text/x-python",
   "name": "python",
   "nbconvert_exporter": "python",
   "pygments_lexer": "ipython3",
   "version": "3.8.8"
  }
 },
 "nbformat": 4,
 "nbformat_minor": 4
}
