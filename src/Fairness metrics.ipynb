{
 "cells": [
  {
   "cell_type": "code",
   "execution_count": 1,
   "metadata": {},
   "outputs": [
    {
     "name": "stderr",
     "output_type": "stream",
     "text": [
      "\n",
      "Bad key savefig.frameon in file /home/camilla/anaconda3/lib/python3.7/site-packages/matplotlib/mpl-data/stylelib/_classic_test.mplstyle, line 421 ('savefig.frameon : True')\n",
      "You probably need to get an updated matplotlibrc file from\n",
      "https://github.com/matplotlib/matplotlib/blob/v3.4.2/matplotlibrc.template\n",
      "or from the matplotlib source distribution\n",
      "\n",
      "Bad key verbose.level in file /home/camilla/anaconda3/lib/python3.7/site-packages/matplotlib/mpl-data/stylelib/_classic_test.mplstyle, line 472 ('verbose.level  : silent      # one of silent, helpful, debug, debug-annoying')\n",
      "You probably need to get an updated matplotlibrc file from\n",
      "https://github.com/matplotlib/matplotlib/blob/v3.4.2/matplotlibrc.template\n",
      "or from the matplotlib source distribution\n",
      "\n",
      "Bad key verbose.fileo in file /home/camilla/anaconda3/lib/python3.7/site-packages/matplotlib/mpl-data/stylelib/_classic_test.mplstyle, line 473 ('verbose.fileo  : sys.stdout  # a log filename, sys.stdout or sys.stderr')\n",
      "You probably need to get an updated matplotlibrc file from\n",
      "https://github.com/matplotlib/matplotlib/blob/v3.4.2/matplotlibrc.template\n",
      "or from the matplotlib source distribution\n",
      "In /home/camilla/anaconda3/lib/python3.7/site-packages/matplotlib/mpl-data/stylelib/_classic_test.mplstyle: \n",
      "The text.latex.preview rcparam was deprecated in Matplotlib 3.3 and will be removed two minor releases later.\n",
      "In /home/camilla/anaconda3/lib/python3.7/site-packages/matplotlib/mpl-data/stylelib/_classic_test.mplstyle: \n",
      "The mathtext.fallback_to_cm rcparam was deprecated in Matplotlib 3.3 and will be removed two minor releases later.\n",
      "In /home/camilla/anaconda3/lib/python3.7/site-packages/matplotlib/mpl-data/stylelib/_classic_test.mplstyle: Support for setting the 'mathtext.fallback_to_cm' rcParam is deprecated since 3.3 and will be removed two minor releases later; use 'mathtext.fallback : 'cm' instead.\n",
      "In /home/camilla/anaconda3/lib/python3.7/site-packages/matplotlib/mpl-data/stylelib/_classic_test.mplstyle: \n",
      "The validate_bool_maybe_none function was deprecated in Matplotlib 3.3 and will be removed two minor releases later.\n",
      "In /home/camilla/anaconda3/lib/python3.7/site-packages/matplotlib/mpl-data/stylelib/_classic_test.mplstyle: \n",
      "The savefig.jpeg_quality rcparam was deprecated in Matplotlib 3.3 and will be removed two minor releases later.\n",
      "In /home/camilla/anaconda3/lib/python3.7/site-packages/matplotlib/mpl-data/stylelib/_classic_test.mplstyle: \n",
      "The keymap.all_axes rcparam was deprecated in Matplotlib 3.3 and will be removed two minor releases later.\n",
      "In /home/camilla/anaconda3/lib/python3.7/site-packages/matplotlib/mpl-data/stylelib/_classic_test.mplstyle: \n",
      "The animation.avconv_path rcparam was deprecated in Matplotlib 3.3 and will be removed two minor releases later.\n",
      "In /home/camilla/anaconda3/lib/python3.7/site-packages/matplotlib/mpl-data/stylelib/_classic_test.mplstyle: \n",
      "The animation.avconv_args rcparam was deprecated in Matplotlib 3.3 and will be removed two minor releases later.\n"
     ]
    }
   ],
   "source": [
    "from pathlib import Path\n",
    "import pandas as pd\n",
    "import utils\n",
    "import matplotlib.pyplot as plt"
   ]
  },
  {
   "cell_type": "code",
   "execution_count": 2,
   "metadata": {},
   "outputs": [],
   "source": [
    "data = utils.get_aws_val_df()"
   ]
  },
  {
   "cell_type": "code",
   "execution_count": 8,
   "metadata": {},
   "outputs": [
    {
     "data": {
      "text/html": [
       "<div>\n",
       "<style scoped>\n",
       "    .dataframe tbody tr th:only-of-type {\n",
       "        vertical-align: middle;\n",
       "    }\n",
       "\n",
       "    .dataframe tbody tr th {\n",
       "        vertical-align: top;\n",
       "    }\n",
       "\n",
       "    .dataframe thead th {\n",
       "        text-align: right;\n",
       "    }\n",
       "</style>\n",
       "<table border=\"1\" class=\"dataframe\">\n",
       "  <thead>\n",
       "    <tr style=\"text-align: right;\">\n",
       "      <th></th>\n",
       "      <th>Unnamed: 0</th>\n",
       "      <th>file</th>\n",
       "      <th>age</th>\n",
       "      <th>gender</th>\n",
       "      <th>race</th>\n",
       "      <th>service_test</th>\n",
       "      <th>path</th>\n",
       "      <th>predicted_age</th>\n",
       "      <th>predicted_gender</th>\n",
       "    </tr>\n",
       "  </thead>\n",
       "  <tbody>\n",
       "    <tr>\n",
       "      <th>0</th>\n",
       "      <td>0</td>\n",
       "      <td>val/1.jpg</td>\n",
       "      <td>3-9</td>\n",
       "      <td>male</td>\n",
       "      <td>East Asian</td>\n",
       "      <td>False</td>\n",
       "      <td>val/1.jpg</td>\n",
       "      <td>7.0</td>\n",
       "      <td>male</td>\n",
       "    </tr>\n",
       "    <tr>\n",
       "      <th>1</th>\n",
       "      <td>1</td>\n",
       "      <td>val/2.jpg</td>\n",
       "      <td>50-59</td>\n",
       "      <td>female</td>\n",
       "      <td>East Asian</td>\n",
       "      <td>True</td>\n",
       "      <td>val/2.jpg</td>\n",
       "      <td>38.0</td>\n",
       "      <td>female</td>\n",
       "    </tr>\n",
       "    <tr>\n",
       "      <th>2</th>\n",
       "      <td>2</td>\n",
       "      <td>val/3.jpg</td>\n",
       "      <td>30-39</td>\n",
       "      <td>male</td>\n",
       "      <td>White</td>\n",
       "      <td>True</td>\n",
       "      <td>val/3.jpg</td>\n",
       "      <td>31.0</td>\n",
       "      <td>male</td>\n",
       "    </tr>\n",
       "    <tr>\n",
       "      <th>3</th>\n",
       "      <td>3</td>\n",
       "      <td>val/4.jpg</td>\n",
       "      <td>20-29</td>\n",
       "      <td>female</td>\n",
       "      <td>Latino_Hispanic</td>\n",
       "      <td>True</td>\n",
       "      <td>val/4.jpg</td>\n",
       "      <td>24.0</td>\n",
       "      <td>female</td>\n",
       "    </tr>\n",
       "    <tr>\n",
       "      <th>4</th>\n",
       "      <td>4</td>\n",
       "      <td>val/5.jpg</td>\n",
       "      <td>20-29</td>\n",
       "      <td>male</td>\n",
       "      <td>Southeast Asian</td>\n",
       "      <td>False</td>\n",
       "      <td>val/5.jpg</td>\n",
       "      <td>21.0</td>\n",
       "      <td>male</td>\n",
       "    </tr>\n",
       "    <tr>\n",
       "      <th>5</th>\n",
       "      <td>5</td>\n",
       "      <td>val/6.jpg</td>\n",
       "      <td>30-39</td>\n",
       "      <td>male</td>\n",
       "      <td>Latino_Hispanic</td>\n",
       "      <td>False</td>\n",
       "      <td>val/6.jpg</td>\n",
       "      <td>38.0</td>\n",
       "      <td>male</td>\n",
       "    </tr>\n",
       "    <tr>\n",
       "      <th>6</th>\n",
       "      <td>6</td>\n",
       "      <td>val/7.jpg</td>\n",
       "      <td>20-29</td>\n",
       "      <td>male</td>\n",
       "      <td>Black</td>\n",
       "      <td>True</td>\n",
       "      <td>val/7.jpg</td>\n",
       "      <td>23.0</td>\n",
       "      <td>male</td>\n",
       "    </tr>\n",
       "    <tr>\n",
       "      <th>7</th>\n",
       "      <td>7</td>\n",
       "      <td>val/8.jpg</td>\n",
       "      <td>3-9</td>\n",
       "      <td>male</td>\n",
       "      <td>East Asian</td>\n",
       "      <td>False</td>\n",
       "      <td>val/8.jpg</td>\n",
       "      <td>3.0</td>\n",
       "      <td>male</td>\n",
       "    </tr>\n",
       "    <tr>\n",
       "      <th>8</th>\n",
       "      <td>8</td>\n",
       "      <td>val/9.jpg</td>\n",
       "      <td>20-29</td>\n",
       "      <td>male</td>\n",
       "      <td>Southeast Asian</td>\n",
       "      <td>False</td>\n",
       "      <td>val/9.jpg</td>\n",
       "      <td>NaN</td>\n",
       "      <td>NaN</td>\n",
       "    </tr>\n",
       "    <tr>\n",
       "      <th>9</th>\n",
       "      <td>9</td>\n",
       "      <td>val/10.jpg</td>\n",
       "      <td>3-9</td>\n",
       "      <td>male</td>\n",
       "      <td>Southeast Asian</td>\n",
       "      <td>False</td>\n",
       "      <td>val/10.jpg</td>\n",
       "      <td>14.0</td>\n",
       "      <td>male</td>\n",
       "    </tr>\n",
       "    <tr>\n",
       "      <th>10</th>\n",
       "      <td>10</td>\n",
       "      <td>val/11.jpg</td>\n",
       "      <td>more than 70</td>\n",
       "      <td>female</td>\n",
       "      <td>East Asian</td>\n",
       "      <td>True</td>\n",
       "      <td>val/11.jpg</td>\n",
       "      <td>54.0</td>\n",
       "      <td>female</td>\n",
       "    </tr>\n",
       "    <tr>\n",
       "      <th>11</th>\n",
       "      <td>11</td>\n",
       "      <td>val/12.jpg</td>\n",
       "      <td>50-59</td>\n",
       "      <td>female</td>\n",
       "      <td>East Asian</td>\n",
       "      <td>True</td>\n",
       "      <td>val/12.jpg</td>\n",
       "      <td>56.0</td>\n",
       "      <td>female</td>\n",
       "    </tr>\n",
       "    <tr>\n",
       "      <th>12</th>\n",
       "      <td>12</td>\n",
       "      <td>val/13.jpg</td>\n",
       "      <td>40-49</td>\n",
       "      <td>female</td>\n",
       "      <td>Indian</td>\n",
       "      <td>True</td>\n",
       "      <td>val/13.jpg</td>\n",
       "      <td>24.0</td>\n",
       "      <td>female</td>\n",
       "    </tr>\n",
       "    <tr>\n",
       "      <th>13</th>\n",
       "      <td>13</td>\n",
       "      <td>val/14.jpg</td>\n",
       "      <td>20-29</td>\n",
       "      <td>male</td>\n",
       "      <td>Indian</td>\n",
       "      <td>True</td>\n",
       "      <td>val/14.jpg</td>\n",
       "      <td>34.0</td>\n",
       "      <td>male</td>\n",
       "    </tr>\n",
       "    <tr>\n",
       "      <th>14</th>\n",
       "      <td>14</td>\n",
       "      <td>val/15.jpg</td>\n",
       "      <td>30-39</td>\n",
       "      <td>female</td>\n",
       "      <td>Latino_Hispanic</td>\n",
       "      <td>False</td>\n",
       "      <td>val/15.jpg</td>\n",
       "      <td>35.0</td>\n",
       "      <td>female</td>\n",
       "    </tr>\n",
       "    <tr>\n",
       "      <th>15</th>\n",
       "      <td>15</td>\n",
       "      <td>val/16.jpg</td>\n",
       "      <td>50-59</td>\n",
       "      <td>male</td>\n",
       "      <td>Middle Eastern</td>\n",
       "      <td>True</td>\n",
       "      <td>val/16.jpg</td>\n",
       "      <td>NaN</td>\n",
       "      <td>NaN</td>\n",
       "    </tr>\n",
       "    <tr>\n",
       "      <th>16</th>\n",
       "      <td>16</td>\n",
       "      <td>val/17.jpg</td>\n",
       "      <td>30-39</td>\n",
       "      <td>male</td>\n",
       "      <td>East Asian</td>\n",
       "      <td>False</td>\n",
       "      <td>val/17.jpg</td>\n",
       "      <td>NaN</td>\n",
       "      <td>NaN</td>\n",
       "    </tr>\n",
       "    <tr>\n",
       "      <th>17</th>\n",
       "      <td>17</td>\n",
       "      <td>val/18.jpg</td>\n",
       "      <td>20-29</td>\n",
       "      <td>female</td>\n",
       "      <td>White</td>\n",
       "      <td>False</td>\n",
       "      <td>val/18.jpg</td>\n",
       "      <td>31.0</td>\n",
       "      <td>female</td>\n",
       "    </tr>\n",
       "    <tr>\n",
       "      <th>18</th>\n",
       "      <td>18</td>\n",
       "      <td>val/19.jpg</td>\n",
       "      <td>40-49</td>\n",
       "      <td>male</td>\n",
       "      <td>White</td>\n",
       "      <td>False</td>\n",
       "      <td>val/19.jpg</td>\n",
       "      <td>44.0</td>\n",
       "      <td>male</td>\n",
       "    </tr>\n",
       "    <tr>\n",
       "      <th>19</th>\n",
       "      <td>19</td>\n",
       "      <td>val/20.jpg</td>\n",
       "      <td>40-49</td>\n",
       "      <td>female</td>\n",
       "      <td>Middle Eastern</td>\n",
       "      <td>True</td>\n",
       "      <td>val/20.jpg</td>\n",
       "      <td>49.0</td>\n",
       "      <td>female</td>\n",
       "    </tr>\n",
       "    <tr>\n",
       "      <th>20</th>\n",
       "      <td>20</td>\n",
       "      <td>val/21.jpg</td>\n",
       "      <td>20-29</td>\n",
       "      <td>male</td>\n",
       "      <td>East Asian</td>\n",
       "      <td>True</td>\n",
       "      <td>val/21.jpg</td>\n",
       "      <td>21.0</td>\n",
       "      <td>male</td>\n",
       "    </tr>\n",
       "    <tr>\n",
       "      <th>21</th>\n",
       "      <td>21</td>\n",
       "      <td>val/22.jpg</td>\n",
       "      <td>40-49</td>\n",
       "      <td>male</td>\n",
       "      <td>White</td>\n",
       "      <td>False</td>\n",
       "      <td>val/22.jpg</td>\n",
       "      <td>48.0</td>\n",
       "      <td>male</td>\n",
       "    </tr>\n",
       "    <tr>\n",
       "      <th>22</th>\n",
       "      <td>22</td>\n",
       "      <td>val/23.jpg</td>\n",
       "      <td>30-39</td>\n",
       "      <td>female</td>\n",
       "      <td>White</td>\n",
       "      <td>True</td>\n",
       "      <td>val/23.jpg</td>\n",
       "      <td>38.0</td>\n",
       "      <td>female</td>\n",
       "    </tr>\n",
       "    <tr>\n",
       "      <th>23</th>\n",
       "      <td>23</td>\n",
       "      <td>val/24.jpg</td>\n",
       "      <td>10-19</td>\n",
       "      <td>female</td>\n",
       "      <td>East Asian</td>\n",
       "      <td>False</td>\n",
       "      <td>val/24.jpg</td>\n",
       "      <td>29.0</td>\n",
       "      <td>female</td>\n",
       "    </tr>\n",
       "    <tr>\n",
       "      <th>24</th>\n",
       "      <td>24</td>\n",
       "      <td>val/25.jpg</td>\n",
       "      <td>20-29</td>\n",
       "      <td>female</td>\n",
       "      <td>Latino_Hispanic</td>\n",
       "      <td>False</td>\n",
       "      <td>val/25.jpg</td>\n",
       "      <td>32.0</td>\n",
       "      <td>female</td>\n",
       "    </tr>\n",
       "    <tr>\n",
       "      <th>25</th>\n",
       "      <td>25</td>\n",
       "      <td>val/26.jpg</td>\n",
       "      <td>30-39</td>\n",
       "      <td>female</td>\n",
       "      <td>Latino_Hispanic</td>\n",
       "      <td>False</td>\n",
       "      <td>val/26.jpg</td>\n",
       "      <td>27.0</td>\n",
       "      <td>female</td>\n",
       "    </tr>\n",
       "    <tr>\n",
       "      <th>26</th>\n",
       "      <td>26</td>\n",
       "      <td>val/27.jpg</td>\n",
       "      <td>20-29</td>\n",
       "      <td>female</td>\n",
       "      <td>Latino_Hispanic</td>\n",
       "      <td>True</td>\n",
       "      <td>val/27.jpg</td>\n",
       "      <td>47.0</td>\n",
       "      <td>female</td>\n",
       "    </tr>\n",
       "    <tr>\n",
       "      <th>27</th>\n",
       "      <td>27</td>\n",
       "      <td>val/28.jpg</td>\n",
       "      <td>20-29</td>\n",
       "      <td>female</td>\n",
       "      <td>Southeast Asian</td>\n",
       "      <td>True</td>\n",
       "      <td>val/28.jpg</td>\n",
       "      <td>31.0</td>\n",
       "      <td>female</td>\n",
       "    </tr>\n",
       "    <tr>\n",
       "      <th>28</th>\n",
       "      <td>28</td>\n",
       "      <td>val/29.jpg</td>\n",
       "      <td>3-9</td>\n",
       "      <td>female</td>\n",
       "      <td>East Asian</td>\n",
       "      <td>False</td>\n",
       "      <td>val/29.jpg</td>\n",
       "      <td>8.0</td>\n",
       "      <td>female</td>\n",
       "    </tr>\n",
       "    <tr>\n",
       "      <th>29</th>\n",
       "      <td>29</td>\n",
       "      <td>val/30.jpg</td>\n",
       "      <td>30-39</td>\n",
       "      <td>female</td>\n",
       "      <td>Latino_Hispanic</td>\n",
       "      <td>False</td>\n",
       "      <td>val/30.jpg</td>\n",
       "      <td>28.0</td>\n",
       "      <td>female</td>\n",
       "    </tr>\n",
       "    <tr>\n",
       "      <th>...</th>\n",
       "      <td>...</td>\n",
       "      <td>...</td>\n",
       "      <td>...</td>\n",
       "      <td>...</td>\n",
       "      <td>...</td>\n",
       "      <td>...</td>\n",
       "      <td>...</td>\n",
       "      <td>...</td>\n",
       "      <td>...</td>\n",
       "    </tr>\n",
       "    <tr>\n",
       "      <th>10924</th>\n",
       "      <td>10924</td>\n",
       "      <td>val/10925.jpg</td>\n",
       "      <td>3-9</td>\n",
       "      <td>male</td>\n",
       "      <td>Middle Eastern</td>\n",
       "      <td>True</td>\n",
       "      <td>val/10925.jpg</td>\n",
       "      <td>7.0</td>\n",
       "      <td>male</td>\n",
       "    </tr>\n",
       "    <tr>\n",
       "      <th>10925</th>\n",
       "      <td>10925</td>\n",
       "      <td>val/10926.jpg</td>\n",
       "      <td>40-49</td>\n",
       "      <td>male</td>\n",
       "      <td>Southeast Asian</td>\n",
       "      <td>False</td>\n",
       "      <td>val/10926.jpg</td>\n",
       "      <td>43.0</td>\n",
       "      <td>male</td>\n",
       "    </tr>\n",
       "    <tr>\n",
       "      <th>10926</th>\n",
       "      <td>10926</td>\n",
       "      <td>val/10927.jpg</td>\n",
       "      <td>30-39</td>\n",
       "      <td>male</td>\n",
       "      <td>Indian</td>\n",
       "      <td>False</td>\n",
       "      <td>val/10927.jpg</td>\n",
       "      <td>NaN</td>\n",
       "      <td>NaN</td>\n",
       "    </tr>\n",
       "    <tr>\n",
       "      <th>10927</th>\n",
       "      <td>10927</td>\n",
       "      <td>val/10928.jpg</td>\n",
       "      <td>20-29</td>\n",
       "      <td>male</td>\n",
       "      <td>White</td>\n",
       "      <td>False</td>\n",
       "      <td>val/10928.jpg</td>\n",
       "      <td>27.0</td>\n",
       "      <td>male</td>\n",
       "    </tr>\n",
       "    <tr>\n",
       "      <th>10928</th>\n",
       "      <td>10928</td>\n",
       "      <td>val/10929.jpg</td>\n",
       "      <td>10-19</td>\n",
       "      <td>female</td>\n",
       "      <td>Black</td>\n",
       "      <td>False</td>\n",
       "      <td>val/10929.jpg</td>\n",
       "      <td>NaN</td>\n",
       "      <td>NaN</td>\n",
       "    </tr>\n",
       "    <tr>\n",
       "      <th>10929</th>\n",
       "      <td>10929</td>\n",
       "      <td>val/10930.jpg</td>\n",
       "      <td>20-29</td>\n",
       "      <td>female</td>\n",
       "      <td>East Asian</td>\n",
       "      <td>False</td>\n",
       "      <td>val/10930.jpg</td>\n",
       "      <td>24.0</td>\n",
       "      <td>female</td>\n",
       "    </tr>\n",
       "    <tr>\n",
       "      <th>10930</th>\n",
       "      <td>10930</td>\n",
       "      <td>val/10931.jpg</td>\n",
       "      <td>30-39</td>\n",
       "      <td>female</td>\n",
       "      <td>Southeast Asian</td>\n",
       "      <td>False</td>\n",
       "      <td>val/10931.jpg</td>\n",
       "      <td>32.0</td>\n",
       "      <td>female</td>\n",
       "    </tr>\n",
       "    <tr>\n",
       "      <th>10931</th>\n",
       "      <td>10931</td>\n",
       "      <td>val/10932.jpg</td>\n",
       "      <td>40-49</td>\n",
       "      <td>female</td>\n",
       "      <td>White</td>\n",
       "      <td>False</td>\n",
       "      <td>val/10932.jpg</td>\n",
       "      <td>33.0</td>\n",
       "      <td>female</td>\n",
       "    </tr>\n",
       "    <tr>\n",
       "      <th>10932</th>\n",
       "      <td>10932</td>\n",
       "      <td>val/10933.jpg</td>\n",
       "      <td>3-9</td>\n",
       "      <td>male</td>\n",
       "      <td>Black</td>\n",
       "      <td>False</td>\n",
       "      <td>val/10933.jpg</td>\n",
       "      <td>2.0</td>\n",
       "      <td>male</td>\n",
       "    </tr>\n",
       "    <tr>\n",
       "      <th>10933</th>\n",
       "      <td>10933</td>\n",
       "      <td>val/10934.jpg</td>\n",
       "      <td>20-29</td>\n",
       "      <td>female</td>\n",
       "      <td>Indian</td>\n",
       "      <td>False</td>\n",
       "      <td>val/10934.jpg</td>\n",
       "      <td>23.0</td>\n",
       "      <td>female</td>\n",
       "    </tr>\n",
       "    <tr>\n",
       "      <th>10934</th>\n",
       "      <td>10934</td>\n",
       "      <td>val/10935.jpg</td>\n",
       "      <td>30-39</td>\n",
       "      <td>female</td>\n",
       "      <td>Black</td>\n",
       "      <td>True</td>\n",
       "      <td>val/10935.jpg</td>\n",
       "      <td>40.0</td>\n",
       "      <td>female</td>\n",
       "    </tr>\n",
       "    <tr>\n",
       "      <th>10935</th>\n",
       "      <td>10935</td>\n",
       "      <td>val/10936.jpg</td>\n",
       "      <td>20-29</td>\n",
       "      <td>female</td>\n",
       "      <td>Latino_Hispanic</td>\n",
       "      <td>False</td>\n",
       "      <td>val/10936.jpg</td>\n",
       "      <td>22.0</td>\n",
       "      <td>female</td>\n",
       "    </tr>\n",
       "    <tr>\n",
       "      <th>10936</th>\n",
       "      <td>10936</td>\n",
       "      <td>val/10937.jpg</td>\n",
       "      <td>30-39</td>\n",
       "      <td>male</td>\n",
       "      <td>White</td>\n",
       "      <td>False</td>\n",
       "      <td>val/10937.jpg</td>\n",
       "      <td>47.0</td>\n",
       "      <td>male</td>\n",
       "    </tr>\n",
       "    <tr>\n",
       "      <th>10937</th>\n",
       "      <td>10937</td>\n",
       "      <td>val/10938.jpg</td>\n",
       "      <td>3-9</td>\n",
       "      <td>female</td>\n",
       "      <td>White</td>\n",
       "      <td>True</td>\n",
       "      <td>val/10938.jpg</td>\n",
       "      <td>6.0</td>\n",
       "      <td>female</td>\n",
       "    </tr>\n",
       "    <tr>\n",
       "      <th>10938</th>\n",
       "      <td>10938</td>\n",
       "      <td>val/10939.jpg</td>\n",
       "      <td>40-49</td>\n",
       "      <td>male</td>\n",
       "      <td>Indian</td>\n",
       "      <td>False</td>\n",
       "      <td>val/10939.jpg</td>\n",
       "      <td>37.0</td>\n",
       "      <td>male</td>\n",
       "    </tr>\n",
       "    <tr>\n",
       "      <th>10939</th>\n",
       "      <td>10939</td>\n",
       "      <td>val/10940.jpg</td>\n",
       "      <td>20-29</td>\n",
       "      <td>female</td>\n",
       "      <td>Latino_Hispanic</td>\n",
       "      <td>True</td>\n",
       "      <td>val/10940.jpg</td>\n",
       "      <td>32.0</td>\n",
       "      <td>female</td>\n",
       "    </tr>\n",
       "    <tr>\n",
       "      <th>10940</th>\n",
       "      <td>10940</td>\n",
       "      <td>val/10941.jpg</td>\n",
       "      <td>3-9</td>\n",
       "      <td>female</td>\n",
       "      <td>Indian</td>\n",
       "      <td>False</td>\n",
       "      <td>val/10941.jpg</td>\n",
       "      <td>7.0</td>\n",
       "      <td>female</td>\n",
       "    </tr>\n",
       "    <tr>\n",
       "      <th>10941</th>\n",
       "      <td>10941</td>\n",
       "      <td>val/10942.jpg</td>\n",
       "      <td>3-9</td>\n",
       "      <td>male</td>\n",
       "      <td>Middle Eastern</td>\n",
       "      <td>True</td>\n",
       "      <td>val/10942.jpg</td>\n",
       "      <td>6.0</td>\n",
       "      <td>male</td>\n",
       "    </tr>\n",
       "    <tr>\n",
       "      <th>10942</th>\n",
       "      <td>10942</td>\n",
       "      <td>val/10943.jpg</td>\n",
       "      <td>60-69</td>\n",
       "      <td>male</td>\n",
       "      <td>East Asian</td>\n",
       "      <td>False</td>\n",
       "      <td>val/10943.jpg</td>\n",
       "      <td>61.0</td>\n",
       "      <td>male</td>\n",
       "    </tr>\n",
       "    <tr>\n",
       "      <th>10943</th>\n",
       "      <td>10943</td>\n",
       "      <td>val/10944.jpg</td>\n",
       "      <td>20-29</td>\n",
       "      <td>female</td>\n",
       "      <td>White</td>\n",
       "      <td>False</td>\n",
       "      <td>val/10944.jpg</td>\n",
       "      <td>29.0</td>\n",
       "      <td>female</td>\n",
       "    </tr>\n",
       "    <tr>\n",
       "      <th>10944</th>\n",
       "      <td>10944</td>\n",
       "      <td>val/10945.jpg</td>\n",
       "      <td>10-19</td>\n",
       "      <td>male</td>\n",
       "      <td>Southeast Asian</td>\n",
       "      <td>False</td>\n",
       "      <td>val/10945.jpg</td>\n",
       "      <td>8.0</td>\n",
       "      <td>male</td>\n",
       "    </tr>\n",
       "    <tr>\n",
       "      <th>10945</th>\n",
       "      <td>10945</td>\n",
       "      <td>val/10946.jpg</td>\n",
       "      <td>20-29</td>\n",
       "      <td>female</td>\n",
       "      <td>White</td>\n",
       "      <td>False</td>\n",
       "      <td>val/10946.jpg</td>\n",
       "      <td>22.0</td>\n",
       "      <td>female</td>\n",
       "    </tr>\n",
       "    <tr>\n",
       "      <th>10946</th>\n",
       "      <td>10946</td>\n",
       "      <td>val/10947.jpg</td>\n",
       "      <td>20-29</td>\n",
       "      <td>male</td>\n",
       "      <td>Southeast Asian</td>\n",
       "      <td>False</td>\n",
       "      <td>val/10947.jpg</td>\n",
       "      <td>31.0</td>\n",
       "      <td>male</td>\n",
       "    </tr>\n",
       "    <tr>\n",
       "      <th>10947</th>\n",
       "      <td>10947</td>\n",
       "      <td>val/10948.jpg</td>\n",
       "      <td>10-19</td>\n",
       "      <td>male</td>\n",
       "      <td>White</td>\n",
       "      <td>True</td>\n",
       "      <td>val/10948.jpg</td>\n",
       "      <td>24.0</td>\n",
       "      <td>male</td>\n",
       "    </tr>\n",
       "    <tr>\n",
       "      <th>10948</th>\n",
       "      <td>10948</td>\n",
       "      <td>val/10949.jpg</td>\n",
       "      <td>30-39</td>\n",
       "      <td>female</td>\n",
       "      <td>Black</td>\n",
       "      <td>False</td>\n",
       "      <td>val/10949.jpg</td>\n",
       "      <td>NaN</td>\n",
       "      <td>NaN</td>\n",
       "    </tr>\n",
       "    <tr>\n",
       "      <th>10949</th>\n",
       "      <td>10949</td>\n",
       "      <td>val/10950.jpg</td>\n",
       "      <td>30-39</td>\n",
       "      <td>male</td>\n",
       "      <td>White</td>\n",
       "      <td>True</td>\n",
       "      <td>val/10950.jpg</td>\n",
       "      <td>38.0</td>\n",
       "      <td>male</td>\n",
       "    </tr>\n",
       "    <tr>\n",
       "      <th>10950</th>\n",
       "      <td>10950</td>\n",
       "      <td>val/10951.jpg</td>\n",
       "      <td>50-59</td>\n",
       "      <td>male</td>\n",
       "      <td>White</td>\n",
       "      <td>False</td>\n",
       "      <td>val/10951.jpg</td>\n",
       "      <td>48.0</td>\n",
       "      <td>male</td>\n",
       "    </tr>\n",
       "    <tr>\n",
       "      <th>10951</th>\n",
       "      <td>10951</td>\n",
       "      <td>val/10952.jpg</td>\n",
       "      <td>60-69</td>\n",
       "      <td>male</td>\n",
       "      <td>Latino_Hispanic</td>\n",
       "      <td>False</td>\n",
       "      <td>val/10952.jpg</td>\n",
       "      <td>57.0</td>\n",
       "      <td>male</td>\n",
       "    </tr>\n",
       "    <tr>\n",
       "      <th>10952</th>\n",
       "      <td>10952</td>\n",
       "      <td>val/10953.jpg</td>\n",
       "      <td>20-29</td>\n",
       "      <td>female</td>\n",
       "      <td>East Asian</td>\n",
       "      <td>False</td>\n",
       "      <td>val/10953.jpg</td>\n",
       "      <td>22.0</td>\n",
       "      <td>female</td>\n",
       "    </tr>\n",
       "    <tr>\n",
       "      <th>10953</th>\n",
       "      <td>10953</td>\n",
       "      <td>val/10954.jpg</td>\n",
       "      <td>40-49</td>\n",
       "      <td>male</td>\n",
       "      <td>Latino_Hispanic</td>\n",
       "      <td>True</td>\n",
       "      <td>val/10954.jpg</td>\n",
       "      <td>59.0</td>\n",
       "      <td>male</td>\n",
       "    </tr>\n",
       "  </tbody>\n",
       "</table>\n",
       "<p>10954 rows × 9 columns</p>\n",
       "</div>"
      ],
      "text/plain": [
       "       Unnamed: 0           file           age  gender             race  \\\n",
       "0               0      val/1.jpg           3-9    male       East Asian   \n",
       "1               1      val/2.jpg         50-59  female       East Asian   \n",
       "2               2      val/3.jpg         30-39    male            White   \n",
       "3               3      val/4.jpg         20-29  female  Latino_Hispanic   \n",
       "4               4      val/5.jpg         20-29    male  Southeast Asian   \n",
       "5               5      val/6.jpg         30-39    male  Latino_Hispanic   \n",
       "6               6      val/7.jpg         20-29    male            Black   \n",
       "7               7      val/8.jpg           3-9    male       East Asian   \n",
       "8               8      val/9.jpg         20-29    male  Southeast Asian   \n",
       "9               9     val/10.jpg           3-9    male  Southeast Asian   \n",
       "10             10     val/11.jpg  more than 70  female       East Asian   \n",
       "11             11     val/12.jpg         50-59  female       East Asian   \n",
       "12             12     val/13.jpg         40-49  female           Indian   \n",
       "13             13     val/14.jpg         20-29    male           Indian   \n",
       "14             14     val/15.jpg         30-39  female  Latino_Hispanic   \n",
       "15             15     val/16.jpg         50-59    male   Middle Eastern   \n",
       "16             16     val/17.jpg         30-39    male       East Asian   \n",
       "17             17     val/18.jpg         20-29  female            White   \n",
       "18             18     val/19.jpg         40-49    male            White   \n",
       "19             19     val/20.jpg         40-49  female   Middle Eastern   \n",
       "20             20     val/21.jpg         20-29    male       East Asian   \n",
       "21             21     val/22.jpg         40-49    male            White   \n",
       "22             22     val/23.jpg         30-39  female            White   \n",
       "23             23     val/24.jpg         10-19  female       East Asian   \n",
       "24             24     val/25.jpg         20-29  female  Latino_Hispanic   \n",
       "25             25     val/26.jpg         30-39  female  Latino_Hispanic   \n",
       "26             26     val/27.jpg         20-29  female  Latino_Hispanic   \n",
       "27             27     val/28.jpg         20-29  female  Southeast Asian   \n",
       "28             28     val/29.jpg           3-9  female       East Asian   \n",
       "29             29     val/30.jpg         30-39  female  Latino_Hispanic   \n",
       "...           ...            ...           ...     ...              ...   \n",
       "10924       10924  val/10925.jpg           3-9    male   Middle Eastern   \n",
       "10925       10925  val/10926.jpg         40-49    male  Southeast Asian   \n",
       "10926       10926  val/10927.jpg         30-39    male           Indian   \n",
       "10927       10927  val/10928.jpg         20-29    male            White   \n",
       "10928       10928  val/10929.jpg         10-19  female            Black   \n",
       "10929       10929  val/10930.jpg         20-29  female       East Asian   \n",
       "10930       10930  val/10931.jpg         30-39  female  Southeast Asian   \n",
       "10931       10931  val/10932.jpg         40-49  female            White   \n",
       "10932       10932  val/10933.jpg           3-9    male            Black   \n",
       "10933       10933  val/10934.jpg         20-29  female           Indian   \n",
       "10934       10934  val/10935.jpg         30-39  female            Black   \n",
       "10935       10935  val/10936.jpg         20-29  female  Latino_Hispanic   \n",
       "10936       10936  val/10937.jpg         30-39    male            White   \n",
       "10937       10937  val/10938.jpg           3-9  female            White   \n",
       "10938       10938  val/10939.jpg         40-49    male           Indian   \n",
       "10939       10939  val/10940.jpg         20-29  female  Latino_Hispanic   \n",
       "10940       10940  val/10941.jpg           3-9  female           Indian   \n",
       "10941       10941  val/10942.jpg           3-9    male   Middle Eastern   \n",
       "10942       10942  val/10943.jpg         60-69    male       East Asian   \n",
       "10943       10943  val/10944.jpg         20-29  female            White   \n",
       "10944       10944  val/10945.jpg         10-19    male  Southeast Asian   \n",
       "10945       10945  val/10946.jpg         20-29  female            White   \n",
       "10946       10946  val/10947.jpg         20-29    male  Southeast Asian   \n",
       "10947       10947  val/10948.jpg         10-19    male            White   \n",
       "10948       10948  val/10949.jpg         30-39  female            Black   \n",
       "10949       10949  val/10950.jpg         30-39    male            White   \n",
       "10950       10950  val/10951.jpg         50-59    male            White   \n",
       "10951       10951  val/10952.jpg         60-69    male  Latino_Hispanic   \n",
       "10952       10952  val/10953.jpg         20-29  female       East Asian   \n",
       "10953       10953  val/10954.jpg         40-49    male  Latino_Hispanic   \n",
       "\n",
       "       service_test           path  predicted_age predicted_gender  \n",
       "0             False      val/1.jpg            7.0             male  \n",
       "1              True      val/2.jpg           38.0           female  \n",
       "2              True      val/3.jpg           31.0             male  \n",
       "3              True      val/4.jpg           24.0           female  \n",
       "4             False      val/5.jpg           21.0             male  \n",
       "5             False      val/6.jpg           38.0             male  \n",
       "6              True      val/7.jpg           23.0             male  \n",
       "7             False      val/8.jpg            3.0             male  \n",
       "8             False      val/9.jpg            NaN              NaN  \n",
       "9             False     val/10.jpg           14.0             male  \n",
       "10             True     val/11.jpg           54.0           female  \n",
       "11             True     val/12.jpg           56.0           female  \n",
       "12             True     val/13.jpg           24.0           female  \n",
       "13             True     val/14.jpg           34.0             male  \n",
       "14            False     val/15.jpg           35.0           female  \n",
       "15             True     val/16.jpg            NaN              NaN  \n",
       "16            False     val/17.jpg            NaN              NaN  \n",
       "17            False     val/18.jpg           31.0           female  \n",
       "18            False     val/19.jpg           44.0             male  \n",
       "19             True     val/20.jpg           49.0           female  \n",
       "20             True     val/21.jpg           21.0             male  \n",
       "21            False     val/22.jpg           48.0             male  \n",
       "22             True     val/23.jpg           38.0           female  \n",
       "23            False     val/24.jpg           29.0           female  \n",
       "24            False     val/25.jpg           32.0           female  \n",
       "25            False     val/26.jpg           27.0           female  \n",
       "26             True     val/27.jpg           47.0           female  \n",
       "27             True     val/28.jpg           31.0           female  \n",
       "28            False     val/29.jpg            8.0           female  \n",
       "29            False     val/30.jpg           28.0           female  \n",
       "...             ...            ...            ...              ...  \n",
       "10924          True  val/10925.jpg            7.0             male  \n",
       "10925         False  val/10926.jpg           43.0             male  \n",
       "10926         False  val/10927.jpg            NaN              NaN  \n",
       "10927         False  val/10928.jpg           27.0             male  \n",
       "10928         False  val/10929.jpg            NaN              NaN  \n",
       "10929         False  val/10930.jpg           24.0           female  \n",
       "10930         False  val/10931.jpg           32.0           female  \n",
       "10931         False  val/10932.jpg           33.0           female  \n",
       "10932         False  val/10933.jpg            2.0             male  \n",
       "10933         False  val/10934.jpg           23.0           female  \n",
       "10934          True  val/10935.jpg           40.0           female  \n",
       "10935         False  val/10936.jpg           22.0           female  \n",
       "10936         False  val/10937.jpg           47.0             male  \n",
       "10937          True  val/10938.jpg            6.0           female  \n",
       "10938         False  val/10939.jpg           37.0             male  \n",
       "10939          True  val/10940.jpg           32.0           female  \n",
       "10940         False  val/10941.jpg            7.0           female  \n",
       "10941          True  val/10942.jpg            6.0             male  \n",
       "10942         False  val/10943.jpg           61.0             male  \n",
       "10943         False  val/10944.jpg           29.0           female  \n",
       "10944         False  val/10945.jpg            8.0             male  \n",
       "10945         False  val/10946.jpg           22.0           female  \n",
       "10946         False  val/10947.jpg           31.0             male  \n",
       "10947          True  val/10948.jpg           24.0             male  \n",
       "10948         False  val/10949.jpg            NaN              NaN  \n",
       "10949          True  val/10950.jpg           38.0             male  \n",
       "10950         False  val/10951.jpg           48.0             male  \n",
       "10951         False  val/10952.jpg           57.0             male  \n",
       "10952         False  val/10953.jpg           22.0           female  \n",
       "10953          True  val/10954.jpg           59.0             male  \n",
       "\n",
       "[10954 rows x 9 columns]"
      ]
     },
     "execution_count": 8,
     "metadata": {},
     "output_type": "execute_result"
    }
   ],
   "source": [
    "data"
   ]
  },
  {
   "cell_type": "code",
   "execution_count": 3,
   "metadata": {},
   "outputs": [
    {
     "name": "stderr",
     "output_type": "stream",
     "text": [
      "/home/camilla/anaconda3/lib/python3.7/site-packages/ipykernel_launcher.py:1: SettingWithCopyWarning: \n",
      "A value is trying to be set on a copy of a slice from a DataFrame\n",
      "\n",
      "See the caveats in the documentation: http://pandas.pydata.org/pandas-docs/stable/indexing.html#indexing-view-versus-copy\n",
      "  \"\"\"Entry point for launching an IPython kernel.\n",
      "/home/camilla/anaconda3/lib/python3.7/site-packages/ipykernel_launcher.py:2: SettingWithCopyWarning: \n",
      "A value is trying to be set on a copy of a slice from a DataFrame\n",
      "\n",
      "See the caveats in the documentation: http://pandas.pydata.org/pandas-docs/stable/indexing.html#indexing-view-versus-copy\n",
      "  \n"
     ]
    }
   ],
   "source": [
    "data.gender[data.gender == 'Female'] = 'female'\n",
    "data.gender[data.gender == 'Male'] = 'male'"
   ]
  },
  {
   "cell_type": "code",
   "execution_count": 4,
   "metadata": {},
   "outputs": [
    {
     "name": "stderr",
     "output_type": "stream",
     "text": [
      "/home/camilla/anaconda3/lib/python3.7/site-packages/ipykernel_launcher.py:2: SettingWithCopyWarning: \n",
      "A value is trying to be set on a copy of a slice from a DataFrame\n",
      "\n",
      "See the caveats in the documentation: http://pandas.pydata.org/pandas-docs/stable/indexing.html#indexing-view-versus-copy\n",
      "  \n",
      "/home/camilla/anaconda3/lib/python3.7/site-packages/pandas/core/generic.py:8682: SettingWithCopyWarning: \n",
      "A value is trying to be set on a copy of a slice from a DataFrame\n",
      "\n",
      "See the caveats in the documentation: http://pandas.pydata.org/pandas-docs/stable/indexing.html#indexing-view-versus-copy\n",
      "  self._update_inplace(new_data)\n",
      "/home/camilla/anaconda3/lib/python3.7/site-packages/IPython/core/interactiveshell.py:3331: SettingWithCopyWarning: \n",
      "A value is trying to be set on a copy of a slice from a DataFrame\n",
      "\n",
      "See the caveats in the documentation: http://pandas.pydata.org/pandas-docs/stable/indexing.html#indexing-view-versus-copy\n",
      "  exec(code_obj, self.user_global_ns, self.user_ns)\n",
      "/home/camilla/anaconda3/lib/python3.7/site-packages/ipykernel_launcher.py:3: SettingWithCopyWarning: \n",
      "A value is trying to be set on a copy of a slice from a DataFrame\n",
      "\n",
      "See the caveats in the documentation: http://pandas.pydata.org/pandas-docs/stable/indexing.html#indexing-view-versus-copy\n",
      "  This is separate from the ipykernel package so we can avoid doing imports until\n"
     ]
    }
   ],
   "source": [
    "droped_data = data.dropna(inplace = False)\n",
    "droped_data.gender[droped_data.gender == 'Female'] = 'female'\n",
    "droped_data.gender[droped_data.gender == 'Male'] = 'male'"
   ]
  },
  {
   "cell_type": "code",
   "execution_count": 5,
   "metadata": {},
   "outputs": [
    {
     "data": {
      "text/plain": [
       "1942"
      ]
     },
     "execution_count": 5,
     "metadata": {},
     "output_type": "execute_result"
    }
   ],
   "source": [
    "nan_data = data[data.predicted_gender.isna()]\n",
    "len(nan_data)"
   ]
  },
  {
   "cell_type": "code",
   "execution_count": 6,
   "metadata": {},
   "outputs": [
    {
     "data": {
      "text/plain": [
       "777"
      ]
     },
     "execution_count": 6,
     "metadata": {},
     "output_type": "execute_result"
    }
   ],
   "source": [
    "(nan_data.gender == 'female').sum()"
   ]
  },
  {
   "cell_type": "code",
   "execution_count": 7,
   "metadata": {},
   "outputs": [
    {
     "data": {
      "text/plain": [
       "1165"
      ]
     },
     "execution_count": 7,
     "metadata": {},
     "output_type": "execute_result"
    }
   ],
   "source": [
    "(nan_data.gender == 'male').sum()"
   ]
  },
  {
   "cell_type": "markdown",
   "metadata": {},
   "source": [
    "## Disparate impact"
   ]
  },
  {
   "cell_type": "code",
   "execution_count": 8,
   "metadata": {},
   "outputs": [],
   "source": [
    "def calc_prop_priv(data, group_col, group, output_col, output_val):\n",
    "    new = data[data[group_col] == group]\n",
    "    return len(new[new[output_col] == output_val])/len(new)\n",
    "\n",
    "def calc_prop_unpriv(data, group_col, group, output_col, output_val):\n",
    "    new = data[data[group_col] == group]\n",
    "    return len(new[new[output_col] != output_val])/len(new)\n"
   ]
  },
  {
   "cell_type": "code",
   "execution_count": 9,
   "metadata": {},
   "outputs": [
    {
     "data": {
      "text/plain": [
       "(array([5792.,    0.,    0.,    0.,    0.,    0.,    0.,    0.,    0.,\n",
       "        5162.]),\n",
       " array([0. , 0.1, 0.2, 0.3, 0.4, 0.5, 0.6, 0.7, 0.8, 0.9, 1. ]),\n",
       " <BarContainer object of 10 artists>)"
      ]
     },
     "execution_count": 9,
     "metadata": {},
     "output_type": "execute_result"
    },
    {
     "data": {
      "image/png": "[encoded data removed]",
      "text/plain": [
       "<Figure size 432x288 with 1 Axes>"
      ]
     },
     "metadata": {
      "needs_background": "light"
     },
     "output_type": "display_data"
    }
   ],
   "source": [
    "plt.hist(data.gender)\n",
    "# plt.xticks(rotation = 0)"
   ]
  },
  {
   "cell_type": "markdown",
   "metadata": {},
   "source": [
    "####  Disparate impact male for gender"
   ]
  },
  {
   "cell_type": "code",
   "execution_count": 10,
   "metadata": {},
   "outputs": [
    {
     "name": "stdout",
     "output_type": "stream",
     "text": [
      "0.7260013812154696\n",
      "0.2739986187845304\n"
     ]
    },
    {
     "data": {
      "text/plain": [
       "0.37740784780023784"
      ]
     },
     "execution_count": 10,
     "metadata": {},
     "output_type": "execute_result"
    }
   ],
   "source": [
    "pr_priv = calc_prop_priv(data, \"gender\", 'male', \"predicted_gender\", \"male\")\n",
    "print(pr_priv)\n",
    "pr_unpriv = calc_prop_unpriv(data, \"gender\", 'male', \"predicted_gender\", \"male\")\n",
    "print(pr_unpriv)\n",
    "pr_unpriv / pr_priv"
   ]
  },
  {
   "cell_type": "code",
   "execution_count": 11,
   "metadata": {},
   "outputs": [
    {
     "name": "stdout",
     "output_type": "stream",
     "text": [
      "0.9087961962394641\n",
      "0.09120380376053598\n"
     ]
    },
    {
     "data": {
      "text/plain": [
       "0.10035671819262781"
      ]
     },
     "execution_count": 11,
     "metadata": {},
     "output_type": "execute_result"
    }
   ],
   "source": [
    "pr_priv = calc_prop_priv(droped_data, \"gender\", 'male', \"predicted_gender\", \"male\")\n",
    "print(pr_priv)\n",
    "pr_unpriv = calc_prop_unpriv(droped_data, \"gender\", 'male', \"predicted_gender\", \"male\")\n",
    "print(pr_unpriv)\n",
    "pr_unpriv / pr_priv"
   ]
  },
  {
   "cell_type": "markdown",
   "metadata": {},
   "source": [
    "####  Disparate impact female for gender"
   ]
  },
  {
   "cell_type": "code",
   "execution_count": 12,
   "metadata": {},
   "outputs": [
    {
     "name": "stdout",
     "output_type": "stream",
     "text": [
      "0.8086013173188686\n",
      "0.19139868268113133\n"
     ]
    },
    {
     "data": {
      "text/plain": [
       "0.23670340201245807"
      ]
     },
     "execution_count": 12,
     "metadata": {},
     "output_type": "execute_result"
    }
   ],
   "source": [
    "pr_priv = calc_prop_priv(data, \"gender\", 'female', \"predicted_gender\", \"female\")\n",
    "print(pr_priv)\n",
    "pr_unpriv = calc_prop_unpriv(data, \"gender\", 'female', \"predicted_gender\", \"female\")\n",
    "print(pr_unpriv)\n",
    "pr_unpriv / pr_priv"
   ]
  },
  {
   "cell_type": "code",
   "execution_count": 13,
   "metadata": {},
   "outputs": [
    {
     "name": "stdout",
     "output_type": "stream",
     "text": [
      "0.9518814139110604\n",
      "0.04811858608893957\n"
     ]
    },
    {
     "data": {
      "text/plain": [
       "0.05055103018687111"
      ]
     },
     "execution_count": 13,
     "metadata": {},
     "output_type": "execute_result"
    }
   ],
   "source": [
    "pr_priv = calc_prop_priv(droped_data, \"gender\", 'female', \"predicted_gender\", \"female\")\n",
    "print(pr_priv)\n",
    "pr_unpriv = calc_prop_unpriv(droped_data, \"gender\", 'female', \"predicted_gender\", \"female\")\n",
    "print(pr_unpriv)\n",
    "pr_unpriv / pr_priv"
   ]
  },
  {
   "cell_type": "markdown",
   "metadata": {},
   "source": [
    "## Equality of odds"
   ]
  },
  {
   "cell_type": "code",
   "execution_count": 22,
   "metadata": {},
   "outputs": [
    {
     "data": {
      "text/plain": [
       "<sklearn.metrics._plot.confusion_matrix.ConfusionMatrixDisplay at 0x7f609846b190>"
      ]
     },
     "execution_count": 22,
     "metadata": {},
     "output_type": "execute_result"
    },
    {
     "data": {
      "image/png": "[encoded data removed]",
      "text/plain": [
       "<Figure size 432x288 with 2 Axes>"
      ]
     },
     "metadata": {
      "needs_background": "light"
     },
     "output_type": "display_data"
    }
   ],
   "source": [
    "y_true = droped_data.gender\n",
    "y_preds = droped_data.predicted_gender\n",
    "\n",
    "cm = confusion_matrix(y_true, y_preds)\n",
    "cmd = ConfusionMatrixDisplay(cm, display_labels=['Female','Male'])\n",
    "cmd.plot()"
   ]
  },
  {
   "cell_type": "code",
   "execution_count": 23,
   "metadata": {},
   "outputs": [],
   "source": [
    "def perf_measure(y_actual, y_hat, prv, unprv):\n",
    "    TP = 0\n",
    "    FP = 0\n",
    "    TN = 0\n",
    "    FN = 0\n",
    "\n",
    "    for i in range(len(y_hat)): \n",
    "        if y_actual[i]==y_hat[i]==prv:\n",
    "           TP += 1\n",
    "        if y_hat[i]==prv and y_actual[i]!=y_hat[i]:\n",
    "           FP += 1\n",
    "        if y_actual[i]==y_hat[i]==unprv:\n",
    "           TN += 1\n",
    "        if y_hat[i]==unprv and y_actual[i]!=y_hat[i]:\n",
    "           FN += 1\n",
    "    FN += (data.predicted_gender[data.gender == prv].isna()).sum()\n",
    "\n",
    "    return TP, FP, TN, FN "
   ]
  },
  {
   "cell_type": "code",
   "execution_count": 24,
   "metadata": {},
   "outputs": [],
   "source": [
    "def Equality_of_odds(y_actual, y_hat, prv, unprv):\n",
    "    TP, FP, TN, FN = perf_measure(y_actual, y_hat, prv, unprv)\n",
    "    FPR = FP/(FP+TN)\n",
    "    FNR = FN/(FN+TP)\n",
    "    TPR = TP/(TP+FN)\n",
    "    TNR = TN/(TN+FP)\n",
    "    \n",
    "    return FPR,FNR, TPR,TNR"
   ]
  },
  {
   "cell_type": "code",
   "execution_count": 25,
   "metadata": {},
   "outputs": [],
   "source": [
    "y_actual = data.gender#data.gender[data.gender == 'male'].to_list()\n",
    "y_hat = data.predicted_gender# data.predicted_gender[data.gender == 'male'].to_list()"
   ]
  },
  {
   "cell_type": "code",
   "execution_count": 26,
   "metadata": {},
   "outputs": [
    {
     "data": {
      "text/plain": [
       "(4174, 422, 4205, 988)"
      ]
     },
     "execution_count": 26,
     "metadata": {},
     "output_type": "execute_result"
    }
   ],
   "source": [
    "perf_measure(y_actual, y_hat, 'female', 'male')"
   ]
  },
  {
   "cell_type": "code",
   "execution_count": 27,
   "metadata": {},
   "outputs": [
    {
     "data": {
      "text/plain": [
       "(4205, 211, 4174, 1587)"
      ]
     },
     "execution_count": 27,
     "metadata": {},
     "output_type": "execute_result"
    }
   ],
   "source": [
    "perf_measure(y_actual, y_hat, 'male', 'female')"
   ]
  },
  {
   "cell_type": "code",
   "execution_count": 28,
   "metadata": {},
   "outputs": [
    {
     "name": "stdout",
     "output_type": "stream",
     "text": [
      "True positive rate: 0.8086, false positive rate: 0.1914 for Females\n"
     ]
    }
   ],
   "source": [
    "FPR, FNR, TPR, TNR = Equality_of_odds(y_actual, y_hat, 'female', 'male')\n",
    "print(f'True positive rate: {TPR:.4}, false positive rate: {FNR:.4} for Females')"
   ]
  },
  {
   "cell_type": "code",
   "execution_count": 29,
   "metadata": {},
   "outputs": [
    {
     "name": "stdout",
     "output_type": "stream",
     "text": [
      "True positive rate: 0.726, false positive rate: 0.274 for Males\n"
     ]
    }
   ],
   "source": [
    "FPR, FNR, TPR, TNR = Equality_of_odds(y_actual, y_hat, 'male', 'female')\n",
    "print(f'True positive rate: {TPR:.4}, false positive rate: {FNR:.4} for Males')"
   ]
  },
  {
   "cell_type": "markdown",
   "metadata": {},
   "source": [
    "## Equality of opportunity difference"
   ]
  },
  {
   "cell_type": "code",
   "execution_count": 30,
   "metadata": {},
   "outputs": [],
   "source": [
    "def opp_diff(y_actual, y_hat, prv, unprv):\n",
    "    TP, FP, TN, FN = perf_measure(y_actual, y_hat, prv, unprv)\n",
    "    FNR = FN/(FN+TP)\n",
    "    TPR = TP/(TP+FN)\n",
    "    \n",
    "    return TPR"
   ]
  },
  {
   "cell_type": "code",
   "execution_count": 31,
   "metadata": {},
   "outputs": [],
   "source": [
    "_, _, male_TPR, _ = Equality_of_odds(y_actual, y_hat, 'male', 'female')"
   ]
  },
  {
   "cell_type": "code",
   "execution_count": 32,
   "metadata": {},
   "outputs": [],
   "source": [
    "_, _, female_TPR, _ = Equality_of_odds(y_actual, y_hat, 'female', 'male')"
   ]
  },
  {
   "cell_type": "code",
   "execution_count": 33,
   "metadata": {},
   "outputs": [
    {
     "data": {
      "text/plain": [
       "0.082599936103399"
      ]
     },
     "execution_count": 33,
     "metadata": {},
     "output_type": "execute_result"
    }
   ],
   "source": [
    "female_TPR - male_TPR"
   ]
  },
  {
   "cell_type": "code",
   "execution_count": 34,
   "metadata": {},
   "outputs": [
    {
     "data": {
      "text/plain": [
       "0.7260013812154696"
      ]
     },
     "execution_count": 34,
     "metadata": {},
     "output_type": "execute_result"
    }
   ],
   "source": [
    "male_TPR"
   ]
  },
  {
   "cell_type": "code",
   "execution_count": 35,
   "metadata": {},
   "outputs": [
    {
     "data": {
      "text/plain": [
       "0.8086013173188686"
      ]
     },
     "execution_count": 35,
     "metadata": {},
     "output_type": "execute_result"
    }
   ],
   "source": [
    "female_TPR"
   ]
  },
  {
   "cell_type": "code",
   "execution_count": null,
   "metadata": {},
   "outputs": [],
   "source": []
  },
  {
   "cell_type": "code",
   "execution_count": null,
   "metadata": {},
   "outputs": [],
   "source": []
  }
 ],
 "metadata": {
  "kernelspec": {
   "display_name": "Python 3",
   "language": "python",
   "name": "python3"
  },
  "language_info": {
   "codemirror_mode": {
    "name": "ipython",
    "version": 3
   },
   "file_extension": ".py",
   "mimetype": "text/x-python",
   "name": "python",
   "nbconvert_exporter": "python",
   "pygments_lexer": "ipython3",
   "version": "3.7.7"
  }
 },
 "nbformat": 4,
 "nbformat_minor": 4
}
